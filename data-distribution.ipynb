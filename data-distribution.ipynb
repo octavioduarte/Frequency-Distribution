{
 "cells": [
  {
   "cell_type": "markdown",
   "id": "79f1188e-7f9e-4aab-ac71-942ebb06e0d9",
   "metadata": {},
   "source": [
    "### Distribuição de frequência, Distribuição de dados, Histogramas - O que comem e onde vivem?\n",
    "\n",
    "\n",
    " São termos relacionados na área de análise de dados (e muito úteis na área de ciência de dados) - São basicamente diferentes formas de visualizarmos como os dados de uma determinada variável estão distribuídos. \n",
    " \n",
    " Ao decorrer deste notebook vamos explicar com mais detalhes e alguns exemplos para identificarmos o conceito e entender o propósito de cada um - Com isso vamos entender quando usá-los e qual a diferença entre eles (por mais que sejam relacionados)."
   ]
  }
 ],
 "metadata": {
  "kernelspec": {
   "display_name": "Python 3 (ipykernel)",
   "language": "python",
   "name": "python3"
  },
  "language_info": {
   "codemirror_mode": {
    "name": "ipython",
    "version": 3
   },
   "file_extension": ".py",
   "mimetype": "text/x-python",
   "name": "python",
   "nbconvert_exporter": "python",
   "pygments_lexer": "ipython3",
   "version": "3.11.7"
  }
 },
 "nbformat": 4,
 "nbformat_minor": 5
}
