{
 "cells": [
  {
   "cell_type": "markdown",
   "id": "79f1188e-7f9e-4aab-ac71-942ebb06e0d9",
   "metadata": {},
   "source": [
    "### Distribuição de frequência, Distribuição de dados, Histogramas, Distribuição de dados, Histogramas - O que comem e onde vivem?\n",
    "\n",
    "\n",
    " São termos relacionados na área de análise de dados (e muito úteis na área de ciência de dados) - São basicamente diferentes formas de visualizarmos como os dados de uma determinada variável estão distribuídos. \n",
    " \n",
    " Ao decorrer deste notebook vamos explicar com mais detalhes e alguns exemplos para identificarmos o conceito e entender o propósito de cada um - Com isso vamos entender quando usá-los e qual a diferença entre eles (por mais que sejam relacionados)."
   ]
  },
  {
   "cell_type": "markdown",
   "id": "1b371111-3265-4519-bdc8-5ff379b104ed",
   "metadata": {},
   "source": [
    "#### Por que eu preciso saber como os dados da minha variável estão distribuídos?\n",
    "\n",
    " Imagine um contexto onde você precisa criar um algoritmo de machine learning que classifica através de dados históricos se uma pessoa é propensa ou não a ter insuficiência cardíaca.\n",
    "\n",
    " Além de entender as possíveis relações é também importante endermos possíveis concentrações de dados comparando eles com a nossa variável de saída - Por exemplo: Compreender se dentro do grupo de pacientes que tiverem insuficiência cariáca eu tenho maior concentração de pessoas em determinada idade e/ou faixa etária?  \n",
    "\n",
    " As técnicas de: distribuição de frequência, distribuição de dados e histogramas são diferentes formas visuais de enxergarmos isso, vamos ver o exemplo de cada uma:"
   ]
  },
  {
   "cell_type": "markdown",
   "id": "fad0bb78-c9b0-4edb-9750-7e1d78b32c01",
   "metadata": {},
   "source": []
  },
  {
   "cell_type": "code",
   "execution_count": null,
   "id": "7a109c99-930e-4083-838c-23ca237f42f2",
   "metadata": {},
   "outputs": [],
   "source": []
  }
 ],
 "metadata": {
  "kernelspec": {
   "display_name": "Python 3 (ipykernel)",
   "language": "python",
   "name": "python3"
  },
  "language_info": {
   "codemirror_mode": {
    "name": "ipython",
    "version": 3
   },
   "file_extension": ".py",
   "mimetype": "text/x-python",
   "name": "python",
   "nbconvert_exporter": "python",
   "pygments_lexer": "ipython3",
   "version": "3.11.7"
  }
 },
 "nbformat": 4,
 "nbformat_minor": 5
}
